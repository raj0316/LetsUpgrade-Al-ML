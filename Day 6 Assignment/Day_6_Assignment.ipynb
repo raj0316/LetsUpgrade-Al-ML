{
  "nbformat": 4,
  "nbformat_minor": 0,
  "metadata": {
    "colab": {
      "name": "Day 6 Assignment.ipynb",
      "provenance": [],
      "authorship_tag": "ABX9TyOnkWA3Nu7FLOuXN4zvj0JG",
      "include_colab_link": true
    },
    "kernelspec": {
      "name": "python3",
      "display_name": "Python 3"
    }
  },
  "cells": [
    {
      "cell_type": "markdown",
      "metadata": {
        "id": "view-in-github",
        "colab_type": "text"
      },
      "source": [
        "<a href=\"https://colab.research.google.com/github/raj0316/LetsUpgrade-Al-ML/blob/master/Day%206%20Assignment/Day_6_Assignment.ipynb\" target=\"_parent\"><img src=\"https://colab.research.google.com/assets/colab-badge.svg\" alt=\"Open In Colab\"/></a>"
      ]
    },
    {
      "cell_type": "markdown",
      "metadata": {
        "id": "BdgQ_-IXjOhw",
        "colab_type": "text"
      },
      "source": [
        "Solution: Question 1"
      ]
    },
    {
      "cell_type": "code",
      "metadata": {
        "id": "moVHNh9bjBPO",
        "colab_type": "code",
        "colab": {
          "base_uri": "https://localhost:8080/",
          "height": 51
        },
        "outputId": "f446b2f3-1a0d-41f8-b7a2-3a3aef4f4286"
      },
      "source": [
        "mail_str = input()\n",
        "print(mail_str[mail_str.rfind('@') + 1 : mail_str.rfind('.com') ])"
      ],
      "execution_count": 4,
      "outputs": [
        {
          "output_type": "stream",
          "text": [
            "john@google.com\n",
            "google\n"
          ],
          "name": "stdout"
        }
      ]
    },
    {
      "cell_type": "markdown",
      "metadata": {
        "id": "ZPCuQlz2kInx",
        "colab_type": "text"
      },
      "source": [
        "Solution: Question 2"
      ]
    },
    {
      "cell_type": "code",
      "metadata": {
        "id": "sfSnEvBPkL1A",
        "colab_type": "code",
        "colab": {
          "base_uri": "https://localhost:8080/",
          "height": 51
        },
        "outputId": "edf8262c-c238-4033-c7d9-5cf843151015"
      },
      "source": [
        "input_str = input()\n",
        "inp_lst = input_str.split(',')\n",
        "inp_lst.sort()\n",
        "output_str = ','.join(inp_lst)\n",
        "print(output_str)"
      ],
      "execution_count": 6,
      "outputs": [
        {
          "output_type": "stream",
          "text": [
            "world,bag,pen,track\n",
            "bag,pen,track,world\n"
          ],
          "name": "stdout"
        }
      ]
    },
    {
      "cell_type": "markdown",
      "metadata": {
        "id": "ENZwmfXwmEvN",
        "colab_type": "text"
      },
      "source": [
        "Solution : Question 4"
      ]
    },
    {
      "cell_type": "code",
      "metadata": {
        "id": "gJvJX4v_mG5r",
        "colab_type": "code",
        "colab": {
          "base_uri": "https://localhost:8080/",
          "height": 51
        },
        "outputId": "f3e84ec6-f10f-4447-b226-b75609b79d13"
      },
      "source": [
        "num_list = input().split(\" \")\n",
        "def missing_number(num_list,max):\n",
        "  for num in range(1,max+1):\n",
        "    if num not in num_list:\n",
        "      break\n",
        "  return num\n",
        "num_list = list(map(lambda x : int(x), num_list))\n",
        "max_value = max(num_list)\n",
        "print(missing_number(num_list, max_value))\n"
      ],
      "execution_count": 20,
      "outputs": [
        {
          "output_type": "stream",
          "text": [
            "4 3 2 1 9 8 6 5\n",
            "7\n"
          ],
          "name": "stdout"
        }
      ]
    },
    {
      "cell_type": "markdown",
      "metadata": {
        "id": "cxF4oRyNqLO6",
        "colab_type": "text"
      },
      "source": [
        "Solution : Question 5"
      ]
    },
    {
      "cell_type": "code",
      "metadata": {
        "id": "UniebPCyqO8e",
        "colab_type": "code",
        "colab": {
          "base_uri": "https://localhost:8080/",
          "height": 51
        },
        "outputId": "57b3a1a2-448e-41a5-f002-d9084f94d62e"
      },
      "source": [
        "num_list = input().split(\" \")\n",
        "def remove_duplicates(num_list):\n",
        "  res_list = []\n",
        "  for num in num_list:\n",
        "    if num not in res_list:\n",
        "      res_list.append(num)\n",
        "  return res_list\n",
        "\n",
        "num_list = list(map(lambda x : int(x), num_list))\n",
        "print(remove_duplicates(num_list))"
      ],
      "execution_count": 19,
      "outputs": [
        {
          "output_type": "stream",
          "text": [
            "1 1 2 2 3 4 4 5 6 6\n",
            "[1, 2, 3, 4, 5, 6]\n"
          ],
          "name": "stdout"
        }
      ]
    }
  ]
}