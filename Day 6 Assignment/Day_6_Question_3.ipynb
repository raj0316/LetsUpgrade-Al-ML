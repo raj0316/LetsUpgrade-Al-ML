{
  "nbformat": 4,
  "nbformat_minor": 0,
  "metadata": {
    "colab": {
      "name": "Day 6 Question 3",
      "provenance": [],
      "authorship_tag": "ABX9TyM/1ZxrnYk6KWVuWvKOApg6",
      "include_colab_link": true
    },
    "kernelspec": {
      "name": "python3",
      "display_name": "Python 3"
    }
  },
  "cells": [
    {
      "cell_type": "markdown",
      "metadata": {
        "id": "view-in-github",
        "colab_type": "text"
      },
      "source": [
        "<a href=\"https://colab.research.google.com/github/raj0316/LetsUpgrade-Al-ML/blob/master/Day%206%20Assignment/Day_6_Question_3.ipynb\" target=\"_parent\"><img src=\"https://colab.research.google.com/assets/colab-badge.svg\" alt=\"Open In Colab\"/></a>"
      ]
    },
    {
      "cell_type": "code",
      "metadata": {
        "id": "WRsxx_XFm2JE",
        "colab_type": "code",
        "colab": {
          "base_uri": "https://localhost:8080/",
          "height": 51
        },
        "outputId": "20920b21-173b-41bc-8f50-05ec4ef74ce0"
      },
      "source": [
        "sample_set = {1,2,3}\n",
        "print(sample_set)\n",
        "print(type(sample_set))"
      ],
      "execution_count": null,
      "outputs": [
        {
          "output_type": "stream",
          "text": [
            "{1, 2, 3}\n",
            "<class 'set'>\n"
          ],
          "name": "stdout"
        }
      ]
    }
  ]
}